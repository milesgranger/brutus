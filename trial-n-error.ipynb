{
 "cells": [
  {
   "cell_type": "code",
   "execution_count": 1,
   "metadata": {},
   "outputs": [
    {
     "name": "stdout",
     "output_type": "stream",
     "text": [
      "Clearning lambda_env target dir.\n",
      "done.\n",
      "Building environment in Amazon Linux container...\n",
      "Collecting numpy (from -r /lambda_env/requirements.txt (line 1))\n",
      "Downloading numpy-1.13.3-cp36-cp36m-manylinux1_x86_64.whl (17.0MB)\n",
      "Installing collected packages: numpy\n",
      "Successfully installed numpy-1.13.3\n",
      "Creating zip...\n",
      "done\n"
     ]
    }
   ],
   "source": [
    "from brutus.executors import Lambda\n",
    "from brutus.aws.lambda_backend.lambda_setup.build_lambda_env import LambdaEnvBuilder\n",
    "from boto3.session import Session\n",
    "\n",
    "session = Session(profile_name='default')\n",
    "LambdaEnvBuilder.build(['numpy'])\n"
   ]
  },
  {
   "cell_type": "code",
   "execution_count": 1,
   "metadata": {},
   "outputs": [],
   "source": [
    "from brutus.executors import Lambda\n",
    "\n",
    "executor = Lambda(lambda_func_name='default', boto3_session='test')"
   ]
  },
  {
   "cell_type": "code",
   "execution_count": 2,
   "metadata": {},
   "outputs": [
    {
     "data": {
      "text/plain": [
       "'/home/milesg/Projects/brutus/brutus/aws/lambda_backend/lambda_setup/brutus-CloudFormation.yaml'"
      ]
     },
     "execution_count": 2,
     "metadata": {},
     "output_type": "execute_result"
    }
   ],
   "source": [
    "executor.cloudformation_template"
   ]
  },
  {
   "cell_type": "code",
   "execution_count": 3,
   "metadata": {},
   "outputs": [],
   "source": [
    "from boto3.session import Session\n",
    "\n",
    "session = Session(profile_name='default')"
   ]
  },
  {
   "cell_type": "code",
   "execution_count": 4,
   "metadata": {},
   "outputs": [],
   "source": [
    "cf = session.client('cloudformation')"
   ]
  },
  {
   "cell_type": "code",
   "execution_count": 15,
   "metadata": {},
   "outputs": [
    {
     "data": {
      "text/plain": [
       "{'ResponseMetadata': {'HTTPHeaders': {'content-length': '387',\n",
       "   'content-type': 'text/xml',\n",
       "   'date': 'Fri, 29 Dec 2017 07:59:49 GMT',\n",
       "   'x-amzn-requestid': '3e7ebbb6-ec6e-11e7-8a7c-9bde4416df01'},\n",
       "  'HTTPStatusCode': 200,\n",
       "  'RequestId': '3e7ebbb6-ec6e-11e7-8a7c-9bde4416df01',\n",
       "  'RetryAttempts': 0},\n",
       " 'StackId': 'arn:aws:cloudformation:eu-west-1:755632011865:stack/brutus-test-stack/3e860e20-ec6e-11e7-b401-50faf00dccd1'}"
      ]
     },
     "execution_count": 15,
     "metadata": {},
     "output_type": "execute_result"
    }
   ],
   "source": [
    "with open(executor.cloudformation_template, 'r') as f:\n",
    "    template = f.read()\n",
    "\n",
    "\n",
    "response = cf.create_stack(\n",
    "    StackName='brutus-test-stack',\n",
    "    TemplateBody=template,\n",
    "    Parameters=[\n",
    "        {\n",
    "            'ParameterKey': 'FunctionNameParameter',\n",
    "            'ParameterValue': 'Brutus-Test-Function',\n",
    "            'UsePreviousValue': True\n",
    "        },\n",
    "        {\n",
    "            'ParameterKey': 'PythonRuntimeParameter',\n",
    "            'ParameterValue': 'python3.6',\n",
    "            'UsePreviousValue': True\n",
    "        },\n",
    "    ],\n",
    "    TimeoutInMinutes=10,\n",
    "    Capabilities=[\n",
    "        'CAPABILITY_NAMED_IAM',\n",
    "    ],\n",
    "    OnFailure='ROLLBACK',\n",
    "    Tags=[\n",
    "        {\n",
    "            'Key': 'string',\n",
    "            'Value': 'string'\n",
    "        },\n",
    "    ],\n",
    "    #ClientRequestToken='string',\n",
    "    EnableTerminationProtection=False\n",
    ")\n",
    "\n",
    "response"
   ]
  },
  {
   "cell_type": "code",
   "execution_count": 71,
   "metadata": {},
   "outputs": [
    {
     "name": "stdout",
     "output_type": "stream",
     "text": [
      "CREATE_COMPLETE\n"
     ]
    }
   ],
   "source": [
    "\n",
    "\n",
    "stacks = cf.describe_stacks(StackName='brutus-test-stack').get('Stacks', [])\n",
    "\n",
    "\n",
    "if stacks:\n",
    "    \n",
    "    stack = stacks.pop()\n",
    "    \n",
    "    print(stack.get('StackStatus'))"
   ]
  },
  {
   "cell_type": "code",
   "execution_count": 16,
   "metadata": {},
   "outputs": [
    {
     "data": {
      "text/plain": [
       "{'ResponseMetadata': {'HTTPHeaders': {'content-length': '33802',\n",
       "   'content-type': 'text/xml',\n",
       "   'date': 'Fri, 29 Dec 2017 08:00:42 GMT',\n",
       "   'vary': 'Accept-Encoding',\n",
       "   'x-amzn-requestid': '5e793950-ec6e-11e7-ae8f-191d2528f396'},\n",
       "  'HTTPStatusCode': 200,\n",
       "  'RequestId': '5e793950-ec6e-11e7-ae8f-191d2528f396',\n",
       "  'RetryAttempts': 0},\n",
       " 'StackEvents': [{'EventId': 'ApiGatewayStage-CREATE_COMPLETE-2017-12-29T08:00:42.201Z',\n",
       "   'LogicalResourceId': 'ApiGatewayStage',\n",
       "   'PhysicalResourceId': 'BrutusProductionStage',\n",
       "   'ResourceProperties': '{\"DeploymentId\":\"dr7ds9\",\"Description\":\"Brutus Production Stage\",\"StageName\":\"BrutusProductionStage\",\"RestApiId\":\"3r74l5a8xe\",\"MethodSettings\":[{\"ResourcePath\":\"/*\",\"HttpMethod\":\"POST\"}]}\\n',\n",
       "   'ResourceStatus': 'CREATE_COMPLETE',\n",
       "   'ResourceType': 'AWS::ApiGateway::Stage',\n",
       "   'StackId': 'arn:aws:cloudformation:eu-west-1:755632011865:stack/brutus-test-stack/3e860e20-ec6e-11e7-b401-50faf00dccd1',\n",
       "   'StackName': 'brutus-test-stack',\n",
       "   'Timestamp': datetime.datetime(2017, 12, 29, 8, 0, 42, 201000, tzinfo=tzutc())},\n",
       "  {'EventId': 'ApiGatewayStage-CREATE_IN_PROGRESS-2017-12-29T08:00:40.829Z',\n",
       "   'LogicalResourceId': 'ApiGatewayStage',\n",
       "   'PhysicalResourceId': 'BrutusProductionStage',\n",
       "   'ResourceProperties': '{\"DeploymentId\":\"dr7ds9\",\"Description\":\"Brutus Production Stage\",\"StageName\":\"BrutusProductionStage\",\"RestApiId\":\"3r74l5a8xe\",\"MethodSettings\":[{\"ResourcePath\":\"/*\",\"HttpMethod\":\"POST\"}]}\\n',\n",
       "   'ResourceStatus': 'CREATE_IN_PROGRESS',\n",
       "   'ResourceStatusReason': 'Resource creation Initiated',\n",
       "   'ResourceType': 'AWS::ApiGateway::Stage',\n",
       "   'StackId': 'arn:aws:cloudformation:eu-west-1:755632011865:stack/brutus-test-stack/3e860e20-ec6e-11e7-b401-50faf00dccd1',\n",
       "   'StackName': 'brutus-test-stack',\n",
       "   'Timestamp': datetime.datetime(2017, 12, 29, 8, 0, 40, 829000, tzinfo=tzutc())},\n",
       "  {'EventId': 'ApiGatewayStage-CREATE_IN_PROGRESS-2017-12-29T08:00:39.821Z',\n",
       "   'LogicalResourceId': 'ApiGatewayStage',\n",
       "   'PhysicalResourceId': '',\n",
       "   'ResourceProperties': '{\"DeploymentId\":\"dr7ds9\",\"Description\":\"Brutus Production Stage\",\"StageName\":\"BrutusProductionStage\",\"RestApiId\":\"3r74l5a8xe\",\"MethodSettings\":[{\"ResourcePath\":\"/*\",\"HttpMethod\":\"POST\"}]}\\n',\n",
       "   'ResourceStatus': 'CREATE_IN_PROGRESS',\n",
       "   'ResourceType': 'AWS::ApiGateway::Stage',\n",
       "   'StackId': 'arn:aws:cloudformation:eu-west-1:755632011865:stack/brutus-test-stack/3e860e20-ec6e-11e7-b401-50faf00dccd1',\n",
       "   'StackName': 'brutus-test-stack',\n",
       "   'Timestamp': datetime.datetime(2017, 12, 29, 8, 0, 39, 821000, tzinfo=tzutc())},\n",
       "  {'EventId': 'ApiGatewayDeployment-CREATE_COMPLETE-2017-12-29T08:00:37.454Z',\n",
       "   'LogicalResourceId': 'ApiGatewayDeployment',\n",
       "   'PhysicalResourceId': 'dr7ds9',\n",
       "   'ResourceProperties': '{\"Description\":\"Brutus Lambda Proxy Deployment\",\"StageName\":\"BrutusDeploymentStage\",\"RestApiId\":\"3r74l5a8xe\"}\\n',\n",
       "   'ResourceStatus': 'CREATE_COMPLETE',\n",
       "   'ResourceType': 'AWS::ApiGateway::Deployment',\n",
       "   'StackId': 'arn:aws:cloudformation:eu-west-1:755632011865:stack/brutus-test-stack/3e860e20-ec6e-11e7-b401-50faf00dccd1',\n",
       "   'StackName': 'brutus-test-stack',\n",
       "   'Timestamp': datetime.datetime(2017, 12, 29, 8, 0, 37, 454000, tzinfo=tzutc())},\n",
       "  {'EventId': 'ApiGatewayDeployment-CREATE_IN_PROGRESS-2017-12-29T08:00:37.027Z',\n",
       "   'LogicalResourceId': 'ApiGatewayDeployment',\n",
       "   'PhysicalResourceId': 'dr7ds9',\n",
       "   'ResourceProperties': '{\"Description\":\"Brutus Lambda Proxy Deployment\",\"StageName\":\"BrutusDeploymentStage\",\"RestApiId\":\"3r74l5a8xe\"}\\n',\n",
       "   'ResourceStatus': 'CREATE_IN_PROGRESS',\n",
       "   'ResourceStatusReason': 'Resource creation Initiated',\n",
       "   'ResourceType': 'AWS::ApiGateway::Deployment',\n",
       "   'StackId': 'arn:aws:cloudformation:eu-west-1:755632011865:stack/brutus-test-stack/3e860e20-ec6e-11e7-b401-50faf00dccd1',\n",
       "   'StackName': 'brutus-test-stack',\n",
       "   'Timestamp': datetime.datetime(2017, 12, 29, 8, 0, 37, 27000, tzinfo=tzutc())},\n",
       "  {'EventId': 'ApiGatewayDeployment-CREATE_IN_PROGRESS-2017-12-29T08:00:36.358Z',\n",
       "   'LogicalResourceId': 'ApiGatewayDeployment',\n",
       "   'PhysicalResourceId': '',\n",
       "   'ResourceProperties': '{\"Description\":\"Brutus Lambda Proxy Deployment\",\"StageName\":\"BrutusDeploymentStage\",\"RestApiId\":\"3r74l5a8xe\"}\\n',\n",
       "   'ResourceStatus': 'CREATE_IN_PROGRESS',\n",
       "   'ResourceType': 'AWS::ApiGateway::Deployment',\n",
       "   'StackId': 'arn:aws:cloudformation:eu-west-1:755632011865:stack/brutus-test-stack/3e860e20-ec6e-11e7-b401-50faf00dccd1',\n",
       "   'StackName': 'brutus-test-stack',\n",
       "   'Timestamp': datetime.datetime(2017, 12, 29, 8, 0, 36, 358000, tzinfo=tzutc())},\n",
       "  {'EventId': 'ApiGatewayMethod-CREATE_COMPLETE-2017-12-29T08:00:33.449Z',\n",
       "   'LogicalResourceId': 'ApiGatewayMethod',\n",
       "   'PhysicalResourceId': 'brutu-ApiGa-1FC2WF02WRLTZ',\n",
       "   'ResourceProperties': '{\"Integration\":{\"Type\":\"AWS_PROXY\",\"IntegrationHttpMethod\":\"POST\",\"Uri\":\"arn:aws:apigateway:eu-west-1:lambda:path/2015-03-31/functions/arn:aws:lambda:eu-west-1:755632011865:function:Brutus-Test-Function/invocations\",\"PassthroughBehavior\":\"WHEN_NO_MATCH\"},\"ResourceId\":\"hix8if\",\"RestApiId\":\"3r74l5a8xe\",\"ApiKeyRequired\":\"false\",\"AuthorizationType\":\"NONE\",\"HttpMethod\":\"ANY\"}\\n',\n",
       "   'ResourceStatus': 'CREATE_COMPLETE',\n",
       "   'ResourceType': 'AWS::ApiGateway::Method',\n",
       "   'StackId': 'arn:aws:cloudformation:eu-west-1:755632011865:stack/brutus-test-stack/3e860e20-ec6e-11e7-b401-50faf00dccd1',\n",
       "   'StackName': 'brutus-test-stack',\n",
       "   'Timestamp': datetime.datetime(2017, 12, 29, 8, 0, 33, 449000, tzinfo=tzutc())},\n",
       "  {'EventId': 'ApiGatewayMethod-CREATE_IN_PROGRESS-2017-12-29T08:00:30.738Z',\n",
       "   'LogicalResourceId': 'ApiGatewayMethod',\n",
       "   'PhysicalResourceId': 'brutu-ApiGa-1FC2WF02WRLTZ',\n",
       "   'ResourceProperties': '{\"Integration\":{\"Type\":\"AWS_PROXY\",\"IntegrationHttpMethod\":\"POST\",\"Uri\":\"arn:aws:apigateway:eu-west-1:lambda:path/2015-03-31/functions/arn:aws:lambda:eu-west-1:755632011865:function:Brutus-Test-Function/invocations\",\"PassthroughBehavior\":\"WHEN_NO_MATCH\"},\"ResourceId\":\"hix8if\",\"RestApiId\":\"3r74l5a8xe\",\"ApiKeyRequired\":\"false\",\"AuthorizationType\":\"NONE\",\"HttpMethod\":\"ANY\"}\\n',\n",
       "   'ResourceStatus': 'CREATE_IN_PROGRESS',\n",
       "   'ResourceStatusReason': 'Resource creation Initiated',\n",
       "   'ResourceType': 'AWS::ApiGateway::Method',\n",
       "   'StackId': 'arn:aws:cloudformation:eu-west-1:755632011865:stack/brutus-test-stack/3e860e20-ec6e-11e7-b401-50faf00dccd1',\n",
       "   'StackName': 'brutus-test-stack',\n",
       "   'Timestamp': datetime.datetime(2017, 12, 29, 8, 0, 30, 738000, tzinfo=tzutc())},\n",
       "  {'EventId': 'ApiGatewayMethod-CREATE_IN_PROGRESS-2017-12-29T08:00:30.339Z',\n",
       "   'LogicalResourceId': 'ApiGatewayMethod',\n",
       "   'PhysicalResourceId': '',\n",
       "   'ResourceProperties': '{\"Integration\":{\"Type\":\"AWS_PROXY\",\"IntegrationHttpMethod\":\"POST\",\"Uri\":\"arn:aws:apigateway:eu-west-1:lambda:path/2015-03-31/functions/arn:aws:lambda:eu-west-1:755632011865:function:Brutus-Test-Function/invocations\",\"PassthroughBehavior\":\"WHEN_NO_MATCH\"},\"ResourceId\":\"hix8if\",\"RestApiId\":\"3r74l5a8xe\",\"ApiKeyRequired\":\"false\",\"AuthorizationType\":\"NONE\",\"HttpMethod\":\"ANY\"}\\n',\n",
       "   'ResourceStatus': 'CREATE_IN_PROGRESS',\n",
       "   'ResourceType': 'AWS::ApiGateway::Method',\n",
       "   'StackId': 'arn:aws:cloudformation:eu-west-1:755632011865:stack/brutus-test-stack/3e860e20-ec6e-11e7-b401-50faf00dccd1',\n",
       "   'StackName': 'brutus-test-stack',\n",
       "   'Timestamp': datetime.datetime(2017, 12, 29, 8, 0, 30, 339000, tzinfo=tzutc())},\n",
       "  {'EventId': 'LambdaPermission-CREATE_COMPLETE-2017-12-29T08:00:27.665Z',\n",
       "   'LogicalResourceId': 'LambdaPermission',\n",
       "   'PhysicalResourceId': 'brutus-test-stack-LambdaPermission-BMW61DQCN1SY',\n",
       "   'ResourceProperties': '{\"FunctionName\":\"Brutus-Test-Function\",\"Action\":\"lambda:InvokeFunction\",\"SourceArn\":\"arn:aws:execute-api:eu-west-1:755632011865:3r74l5a8xe/*\",\"Principal\":\"apigateway.amazonaws.com\"}\\n',\n",
       "   'ResourceStatus': 'CREATE_COMPLETE',\n",
       "   'ResourceType': 'AWS::Lambda::Permission',\n",
       "   'StackId': 'arn:aws:cloudformation:eu-west-1:755632011865:stack/brutus-test-stack/3e860e20-ec6e-11e7-b401-50faf00dccd1',\n",
       "   'StackName': 'brutus-test-stack',\n",
       "   'Timestamp': datetime.datetime(2017, 12, 29, 8, 0, 27, 665000, tzinfo=tzutc())},\n",
       "  {'EventId': 'LambdaPermission-CREATE_IN_PROGRESS-2017-12-29T08:00:17.144Z',\n",
       "   'LogicalResourceId': 'LambdaPermission',\n",
       "   'PhysicalResourceId': 'brutus-test-stack-LambdaPermission-BMW61DQCN1SY',\n",
       "   'ResourceProperties': '{\"FunctionName\":\"Brutus-Test-Function\",\"Action\":\"lambda:InvokeFunction\",\"SourceArn\":\"arn:aws:execute-api:eu-west-1:755632011865:3r74l5a8xe/*\",\"Principal\":\"apigateway.amazonaws.com\"}\\n',\n",
       "   'ResourceStatus': 'CREATE_IN_PROGRESS',\n",
       "   'ResourceStatusReason': 'Resource creation Initiated',\n",
       "   'ResourceType': 'AWS::Lambda::Permission',\n",
       "   'StackId': 'arn:aws:cloudformation:eu-west-1:755632011865:stack/brutus-test-stack/3e860e20-ec6e-11e7-b401-50faf00dccd1',\n",
       "   'StackName': 'brutus-test-stack',\n",
       "   'Timestamp': datetime.datetime(2017, 12, 29, 8, 0, 17, 144000, tzinfo=tzutc())},\n",
       "  {'EventId': 'LambdaPermission-CREATE_IN_PROGRESS-2017-12-29T08:00:16.772Z',\n",
       "   'LogicalResourceId': 'LambdaPermission',\n",
       "   'PhysicalResourceId': '',\n",
       "   'ResourceProperties': '{\"FunctionName\":\"Brutus-Test-Function\",\"Action\":\"lambda:InvokeFunction\",\"SourceArn\":\"arn:aws:execute-api:eu-west-1:755632011865:3r74l5a8xe/*\",\"Principal\":\"apigateway.amazonaws.com\"}\\n',\n",
       "   'ResourceStatus': 'CREATE_IN_PROGRESS',\n",
       "   'ResourceType': 'AWS::Lambda::Permission',\n",
       "   'StackId': 'arn:aws:cloudformation:eu-west-1:755632011865:stack/brutus-test-stack/3e860e20-ec6e-11e7-b401-50faf00dccd1',\n",
       "   'StackName': 'brutus-test-stack',\n",
       "   'Timestamp': datetime.datetime(2017, 12, 29, 8, 0, 16, 772000, tzinfo=tzutc())},\n",
       "  {'EventId': 'LambdaFunctionBrutus-CREATE_COMPLETE-2017-12-29T08:00:14.304Z',\n",
       "   'LogicalResourceId': 'LambdaFunctionBrutus',\n",
       "   'PhysicalResourceId': 'Brutus-Test-Function',\n",
       "   'ResourceProperties': '{\"Role\":\"arn:aws:iam::755632011865:role/BrutusRole\",\"FunctionName\":\"Brutus-Test-Function\",\"MemorySize\":\"3000\",\"Runtime\":\"python3.6\",\"Description\":\"Function for the Python \\'brutus\\' framework, created by CloudFormation\",\"Timeout\":\"300\",\"Handler\":\"lambda_handler.handler\",\"Code\":{\"ZipFile\":\"# -*- coding: utf-8 -*-\\\\n\\\\nimport json\\\\n\\\\ndef handler(event, context):\\\\n    \\\\\"\\\\\"\\\\\"\\\\n    Execute pickled function in remote Lambda environment using all globals from source environment\\\\n    \\\\\"\\\\\"\\\\\"\\\\n\\\\n    print(\\'Passed event: {}\\'.format(event))\\\\n    print(\\'Passed context: {}\\'.format(context))\\\\n\\\\n    return {\\'statusCode\\': 200, \\'body\\': json.dumps({\\'success\\': True}), \\'isBase64Encoded\\': False}\\\\n\"}}\\n',\n",
       "   'ResourceStatus': 'CREATE_COMPLETE',\n",
       "   'ResourceType': 'AWS::Lambda::Function',\n",
       "   'StackId': 'arn:aws:cloudformation:eu-west-1:755632011865:stack/brutus-test-stack/3e860e20-ec6e-11e7-b401-50faf00dccd1',\n",
       "   'StackName': 'brutus-test-stack',\n",
       "   'Timestamp': datetime.datetime(2017, 12, 29, 8, 0, 14, 304000, tzinfo=tzutc())},\n",
       "  {'EventId': 'LambdaFunctionBrutus-CREATE_IN_PROGRESS-2017-12-29T08:00:13.751Z',\n",
       "   'LogicalResourceId': 'LambdaFunctionBrutus',\n",
       "   'PhysicalResourceId': 'Brutus-Test-Function',\n",
       "   'ResourceProperties': '{\"Role\":\"arn:aws:iam::755632011865:role/BrutusRole\",\"FunctionName\":\"Brutus-Test-Function\",\"MemorySize\":\"3000\",\"Runtime\":\"python3.6\",\"Description\":\"Function for the Python \\'brutus\\' framework, created by CloudFormation\",\"Timeout\":\"300\",\"Handler\":\"lambda_handler.handler\",\"Code\":{\"ZipFile\":\"# -*- coding: utf-8 -*-\\\\n\\\\nimport json\\\\n\\\\ndef handler(event, context):\\\\n    \\\\\"\\\\\"\\\\\"\\\\n    Execute pickled function in remote Lambda environment using all globals from source environment\\\\n    \\\\\"\\\\\"\\\\\"\\\\n\\\\n    print(\\'Passed event: {}\\'.format(event))\\\\n    print(\\'Passed context: {}\\'.format(context))\\\\n\\\\n    return {\\'statusCode\\': 200, \\'body\\': json.dumps({\\'success\\': True}), \\'isBase64Encoded\\': False}\\\\n\"}}\\n',\n",
       "   'ResourceStatus': 'CREATE_IN_PROGRESS',\n",
       "   'ResourceStatusReason': 'Resource creation Initiated',\n",
       "   'ResourceType': 'AWS::Lambda::Function',\n",
       "   'StackId': 'arn:aws:cloudformation:eu-west-1:755632011865:stack/brutus-test-stack/3e860e20-ec6e-11e7-b401-50faf00dccd1',\n",
       "   'StackName': 'brutus-test-stack',\n",
       "   'Timestamp': datetime.datetime(2017, 12, 29, 8, 0, 13, 751000, tzinfo=tzutc())},\n",
       "  {'EventId': 'LambdaFunctionBrutus-CREATE_IN_PROGRESS-2017-12-29T08:00:13.026Z',\n",
       "   'LogicalResourceId': 'LambdaFunctionBrutus',\n",
       "   'PhysicalResourceId': '',\n",
       "   'ResourceProperties': '{\"Role\":\"arn:aws:iam::755632011865:role/BrutusRole\",\"FunctionName\":\"Brutus-Test-Function\",\"MemorySize\":\"3000\",\"Runtime\":\"python3.6\",\"Description\":\"Function for the Python \\'brutus\\' framework, created by CloudFormation\",\"Timeout\":\"300\",\"Handler\":\"lambda_handler.handler\",\"Code\":{\"ZipFile\":\"# -*- coding: utf-8 -*-\\\\n\\\\nimport json\\\\n\\\\ndef handler(event, context):\\\\n    \\\\\"\\\\\"\\\\\"\\\\n    Execute pickled function in remote Lambda environment using all globals from source environment\\\\n    \\\\\"\\\\\"\\\\\"\\\\n\\\\n    print(\\'Passed event: {}\\'.format(event))\\\\n    print(\\'Passed context: {}\\'.format(context))\\\\n\\\\n    return {\\'statusCode\\': 200, \\'body\\': json.dumps({\\'success\\': True}), \\'isBase64Encoded\\': False}\\\\n\"}}\\n',\n",
       "   'ResourceStatus': 'CREATE_IN_PROGRESS',\n",
       "   'ResourceType': 'AWS::Lambda::Function',\n",
       "   'StackId': 'arn:aws:cloudformation:eu-west-1:755632011865:stack/brutus-test-stack/3e860e20-ec6e-11e7-b401-50faf00dccd1',\n",
       "   'StackName': 'brutus-test-stack',\n",
       "   'Timestamp': datetime.datetime(2017, 12, 29, 8, 0, 13, 26000, tzinfo=tzutc())},\n",
       "  {'EventId': 'BrutusRole-CREATE_COMPLETE-2017-12-29T08:00:10.185Z',\n",
       "   'LogicalResourceId': 'BrutusRole',\n",
       "   'PhysicalResourceId': 'BrutusRole',\n",
       "   'ResourceProperties': '{\"ManagedPolicyArns\":[\"arn:aws:iam::aws:policy/service-role/AWSLambdaBasicExecutionRole\"],\"RoleName\":\"BrutusRole\",\"AssumeRolePolicyDocument\":{\"Version\":\"2012-10-17\",\"Statement\":[{\"Action\":[\"sts:AssumeRole\"],\"Effect\":\"Allow\",\"Principal\":{\"Service\":[\"lambda.amazonaws.com\",\"apigateway.amazonaws.com\"]}}]}}\\n',\n",
       "   'ResourceStatus': 'CREATE_COMPLETE',\n",
       "   'ResourceType': 'AWS::IAM::Role',\n",
       "   'StackId': 'arn:aws:cloudformation:eu-west-1:755632011865:stack/brutus-test-stack/3e860e20-ec6e-11e7-b401-50faf00dccd1',\n",
       "   'StackName': 'brutus-test-stack',\n",
       "   'Timestamp': datetime.datetime(2017, 12, 29, 8, 0, 10, 185000, tzinfo=tzutc())},\n",
       "  {'EventId': 'BrutusRolePolicy-CREATE_COMPLETE-2017-12-29T08:00:00.774Z',\n",
       "   'LogicalResourceId': 'BrutusRolePolicy',\n",
       "   'PhysicalResourceId': 'arn:aws:iam::755632011865:policy/BrutusRolePolicy',\n",
       "   'ResourceProperties': '{\"ManagedPolicyName\":\"BrutusRolePolicy\",\"Description\":\"Policy for the BrutusRole. Part of the Python \\'brutus\\' lib, created by CloudFormation\",\"PolicyDocument\":{\"Version\":\"2012-10-17\",\"Statement\":[{\"Action\":\"execute-api:Invoke\",\"Resource\":\"arn:aws:execute-api:*\",\"Effect\":\"Allow\"},{\"Action\":\"sts:AssumeRole\",\"Resource\":\"*\",\"Effect\":\"Allow\"},{\"Action\":\"lambda:*\",\"Resource\":\"*\",\"Effect\":\"Allow\"},{\"Action\":\"apigateway:*\",\"Resource\":\"*\",\"Effect\":\"Allow\"},{\"Action\":\"logs:*\",\"Resource\":\"*\",\"Effect\":\"Allow\"}]}}\\n',\n",
       "   'ResourceStatus': 'CREATE_COMPLETE',\n",
       "   'ResourceType': 'AWS::IAM::ManagedPolicy',\n",
       "   'StackId': 'arn:aws:cloudformation:eu-west-1:755632011865:stack/brutus-test-stack/3e860e20-ec6e-11e7-b401-50faf00dccd1',\n",
       "   'StackName': 'brutus-test-stack',\n",
       "   'Timestamp': datetime.datetime(2017, 12, 29, 8, 0, 0, 774000, tzinfo=tzutc())},\n",
       "  {'EventId': 'ApiGatewayModel-CREATE_COMPLETE-2017-12-29T07:59:58.383Z',\n",
       "   'LogicalResourceId': 'ApiGatewayModel',\n",
       "   'PhysicalResourceId': 'BrutusSchema',\n",
       "   'ResourceProperties': '{\"Description\":\"Schema for Brutus\",\"ContentType\":\"application/json\",\"Schema\":{},\"RestApiId\":\"3r74l5a8xe\",\"Name\":\"BrutusSchema\"}\\n',\n",
       "   'ResourceStatus': 'CREATE_COMPLETE',\n",
       "   'ResourceType': 'AWS::ApiGateway::Model',\n",
       "   'StackId': 'arn:aws:cloudformation:eu-west-1:755632011865:stack/brutus-test-stack/3e860e20-ec6e-11e7-b401-50faf00dccd1',\n",
       "   'StackName': 'brutus-test-stack',\n",
       "   'Timestamp': datetime.datetime(2017, 12, 29, 7, 59, 58, 383000, tzinfo=tzutc())},\n",
       "  {'EventId': 'ApiGatewayResourceProxy-CREATE_COMPLETE-2017-12-29T07:59:58.102Z',\n",
       "   'LogicalResourceId': 'ApiGatewayResourceProxy',\n",
       "   'PhysicalResourceId': 'hix8if',\n",
       "   'ResourceProperties': '{\"ParentId\":\"88sz865ef4\",\"PathPart\":\"brutus\",\"RestApiId\":\"3r74l5a8xe\"}\\n',\n",
       "   'ResourceStatus': 'CREATE_COMPLETE',\n",
       "   'ResourceType': 'AWS::ApiGateway::Resource',\n",
       "   'StackId': 'arn:aws:cloudformation:eu-west-1:755632011865:stack/brutus-test-stack/3e860e20-ec6e-11e7-b401-50faf00dccd1',\n",
       "   'StackName': 'brutus-test-stack',\n",
       "   'Timestamp': datetime.datetime(2017, 12, 29, 7, 59, 58, 102000, tzinfo=tzutc())},\n",
       "  {'EventId': 'ApiGatewayModel-CREATE_IN_PROGRESS-2017-12-29T07:59:57.771Z',\n",
       "   'LogicalResourceId': 'ApiGatewayModel',\n",
       "   'PhysicalResourceId': 'BrutusSchema',\n",
       "   'ResourceProperties': '{\"Description\":\"Schema for Brutus\",\"ContentType\":\"application/json\",\"Schema\":{},\"RestApiId\":\"3r74l5a8xe\",\"Name\":\"BrutusSchema\"}\\n',\n",
       "   'ResourceStatus': 'CREATE_IN_PROGRESS',\n",
       "   'ResourceStatusReason': 'Resource creation Initiated',\n",
       "   'ResourceType': 'AWS::ApiGateway::Model',\n",
       "   'StackId': 'arn:aws:cloudformation:eu-west-1:755632011865:stack/brutus-test-stack/3e860e20-ec6e-11e7-b401-50faf00dccd1',\n",
       "   'StackName': 'brutus-test-stack',\n",
       "   'Timestamp': datetime.datetime(2017, 12, 29, 7, 59, 57, 771000, tzinfo=tzutc())},\n",
       "  {'EventId': 'ApiGatewayResourceProxy-CREATE_IN_PROGRESS-2017-12-29T07:59:57.582Z',\n",
       "   'LogicalResourceId': 'ApiGatewayResourceProxy',\n",
       "   'PhysicalResourceId': 'hix8if',\n",
       "   'ResourceProperties': '{\"ParentId\":\"88sz865ef4\",\"PathPart\":\"brutus\",\"RestApiId\":\"3r74l5a8xe\"}\\n',\n",
       "   'ResourceStatus': 'CREATE_IN_PROGRESS',\n",
       "   'ResourceStatusReason': 'Resource creation Initiated',\n",
       "   'ResourceType': 'AWS::ApiGateway::Resource',\n",
       "   'StackId': 'arn:aws:cloudformation:eu-west-1:755632011865:stack/brutus-test-stack/3e860e20-ec6e-11e7-b401-50faf00dccd1',\n",
       "   'StackName': 'brutus-test-stack',\n",
       "   'Timestamp': datetime.datetime(2017, 12, 29, 7, 59, 57, 582000, tzinfo=tzutc())},\n",
       "  {'EventId': 'ApiGatewayModel-CREATE_IN_PROGRESS-2017-12-29T07:59:57.079Z',\n",
       "   'LogicalResourceId': 'ApiGatewayModel',\n",
       "   'PhysicalResourceId': '',\n",
       "   'ResourceProperties': '{\"Description\":\"Schema for Brutus\",\"ContentType\":\"application/json\",\"Schema\":{},\"RestApiId\":\"3r74l5a8xe\",\"Name\":\"BrutusSchema\"}\\n',\n",
       "   'ResourceStatus': 'CREATE_IN_PROGRESS',\n",
       "   'ResourceType': 'AWS::ApiGateway::Model',\n",
       "   'StackId': 'arn:aws:cloudformation:eu-west-1:755632011865:stack/brutus-test-stack/3e860e20-ec6e-11e7-b401-50faf00dccd1',\n",
       "   'StackName': 'brutus-test-stack',\n",
       "   'Timestamp': datetime.datetime(2017, 12, 29, 7, 59, 57, 79000, tzinfo=tzutc())},\n",
       "  {'EventId': 'ApiGatewayResourceProxy-CREATE_IN_PROGRESS-2017-12-29T07:59:57.034Z',\n",
       "   'LogicalResourceId': 'ApiGatewayResourceProxy',\n",
       "   'PhysicalResourceId': '',\n",
       "   'ResourceProperties': '{\"ParentId\":\"88sz865ef4\",\"PathPart\":\"brutus\",\"RestApiId\":\"3r74l5a8xe\"}\\n',\n",
       "   'ResourceStatus': 'CREATE_IN_PROGRESS',\n",
       "   'ResourceType': 'AWS::ApiGateway::Resource',\n",
       "   'StackId': 'arn:aws:cloudformation:eu-west-1:755632011865:stack/brutus-test-stack/3e860e20-ec6e-11e7-b401-50faf00dccd1',\n",
       "   'StackName': 'brutus-test-stack',\n",
       "   'Timestamp': datetime.datetime(2017, 12, 29, 7, 59, 57, 34000, tzinfo=tzutc())},\n",
       "  {'EventId': 'BrutusRole-CREATE_IN_PROGRESS-2017-12-29T07:59:55.052Z',\n",
       "   'LogicalResourceId': 'BrutusRole',\n",
       "   'PhysicalResourceId': 'BrutusRole',\n",
       "   'ResourceProperties': '{\"ManagedPolicyArns\":[\"arn:aws:iam::aws:policy/service-role/AWSLambdaBasicExecutionRole\"],\"RoleName\":\"BrutusRole\",\"AssumeRolePolicyDocument\":{\"Version\":\"2012-10-17\",\"Statement\":[{\"Action\":[\"sts:AssumeRole\"],\"Effect\":\"Allow\",\"Principal\":{\"Service\":[\"lambda.amazonaws.com\",\"apigateway.amazonaws.com\"]}}]}}\\n',\n",
       "   'ResourceStatus': 'CREATE_IN_PROGRESS',\n",
       "   'ResourceStatusReason': 'Resource creation Initiated',\n",
       "   'ResourceType': 'AWS::IAM::Role',\n",
       "   'StackId': 'arn:aws:cloudformation:eu-west-1:755632011865:stack/brutus-test-stack/3e860e20-ec6e-11e7-b401-50faf00dccd1',\n",
       "   'StackName': 'brutus-test-stack',\n",
       "   'Timestamp': datetime.datetime(2017, 12, 29, 7, 59, 55, 52000, tzinfo=tzutc())},\n",
       "  {'EventId': 'ApiGatewayRestApi-CREATE_COMPLETE-2017-12-29T07:59:54.981Z',\n",
       "   'LogicalResourceId': 'ApiGatewayRestApi',\n",
       "   'PhysicalResourceId': '3r74l5a8xe',\n",
       "   'ResourceProperties': '{\"Description\":\"Brutus API Gateway - CF\",\"EndpointConfiguration\":{\"Types\":[\"EDGE\"]},\"BinaryMediaTypes\":[\"application/octet-stream\"],\"Name\":\"Brutus API Gateway\"}\\n',\n",
       "   'ResourceStatus': 'CREATE_COMPLETE',\n",
       "   'ResourceType': 'AWS::ApiGateway::RestApi',\n",
       "   'StackId': 'arn:aws:cloudformation:eu-west-1:755632011865:stack/brutus-test-stack/3e860e20-ec6e-11e7-b401-50faf00dccd1',\n",
       "   'StackName': 'brutus-test-stack',\n",
       "   'Timestamp': datetime.datetime(2017, 12, 29, 7, 59, 54, 981000, tzinfo=tzutc())},\n",
       "  {'EventId': 'ApiGatewayRestApi-CREATE_IN_PROGRESS-2017-12-29T07:59:54.576Z',\n",
       "   'LogicalResourceId': 'ApiGatewayRestApi',\n",
       "   'PhysicalResourceId': '3r74l5a8xe',\n",
       "   'ResourceProperties': '{\"Description\":\"Brutus API Gateway - CF\",\"EndpointConfiguration\":{\"Types\":[\"EDGE\"]},\"BinaryMediaTypes\":[\"application/octet-stream\"],\"Name\":\"Brutus API Gateway\"}\\n',\n",
       "   'ResourceStatus': 'CREATE_IN_PROGRESS',\n",
       "   'ResourceStatusReason': 'Resource creation Initiated',\n",
       "   'ResourceType': 'AWS::ApiGateway::RestApi',\n",
       "   'StackId': 'arn:aws:cloudformation:eu-west-1:755632011865:stack/brutus-test-stack/3e860e20-ec6e-11e7-b401-50faf00dccd1',\n",
       "   'StackName': 'brutus-test-stack',\n",
       "   'Timestamp': datetime.datetime(2017, 12, 29, 7, 59, 54, 576000, tzinfo=tzutc())},\n",
       "  {'EventId': 'BrutusRolePolicy-CREATE_IN_PROGRESS-2017-12-29T07:59:54.307Z',\n",
       "   'LogicalResourceId': 'BrutusRolePolicy',\n",
       "   'PhysicalResourceId': 'arn:aws:iam::755632011865:policy/BrutusRolePolicy',\n",
       "   'ResourceProperties': '{\"ManagedPolicyName\":\"BrutusRolePolicy\",\"Description\":\"Policy for the BrutusRole. Part of the Python \\'brutus\\' lib, created by CloudFormation\",\"PolicyDocument\":{\"Version\":\"2012-10-17\",\"Statement\":[{\"Action\":\"execute-api:Invoke\",\"Resource\":\"arn:aws:execute-api:*\",\"Effect\":\"Allow\"},{\"Action\":\"sts:AssumeRole\",\"Resource\":\"*\",\"Effect\":\"Allow\"},{\"Action\":\"lambda:*\",\"Resource\":\"*\",\"Effect\":\"Allow\"},{\"Action\":\"apigateway:*\",\"Resource\":\"*\",\"Effect\":\"Allow\"},{\"Action\":\"logs:*\",\"Resource\":\"*\",\"Effect\":\"Allow\"}]}}\\n',\n",
       "   'ResourceStatus': 'CREATE_IN_PROGRESS',\n",
       "   'ResourceStatusReason': 'Resource creation Initiated',\n",
       "   'ResourceType': 'AWS::IAM::ManagedPolicy',\n",
       "   'StackId': 'arn:aws:cloudformation:eu-west-1:755632011865:stack/brutus-test-stack/3e860e20-ec6e-11e7-b401-50faf00dccd1',\n",
       "   'StackName': 'brutus-test-stack',\n",
       "   'Timestamp': datetime.datetime(2017, 12, 29, 7, 59, 54, 307000, tzinfo=tzutc())},\n",
       "  {'EventId': 'ApiGatewayRestApi-CREATE_IN_PROGRESS-2017-12-29T07:59:53.853Z',\n",
       "   'LogicalResourceId': 'ApiGatewayRestApi',\n",
       "   'PhysicalResourceId': '',\n",
       "   'ResourceProperties': '{\"Description\":\"Brutus API Gateway - CF\",\"EndpointConfiguration\":{\"Types\":[\"EDGE\"]},\"BinaryMediaTypes\":[\"application/octet-stream\"],\"Name\":\"Brutus API Gateway\"}\\n',\n",
       "   'ResourceStatus': 'CREATE_IN_PROGRESS',\n",
       "   'ResourceType': 'AWS::ApiGateway::RestApi',\n",
       "   'StackId': 'arn:aws:cloudformation:eu-west-1:755632011865:stack/brutus-test-stack/3e860e20-ec6e-11e7-b401-50faf00dccd1',\n",
       "   'StackName': 'brutus-test-stack',\n",
       "   'Timestamp': datetime.datetime(2017, 12, 29, 7, 59, 53, 853000, tzinfo=tzutc())},\n",
       "  {'EventId': 'BrutusRole-CREATE_IN_PROGRESS-2017-12-29T07:59:53.698Z',\n",
       "   'LogicalResourceId': 'BrutusRole',\n",
       "   'PhysicalResourceId': '',\n",
       "   'ResourceProperties': '{\"ManagedPolicyArns\":[\"arn:aws:iam::aws:policy/service-role/AWSLambdaBasicExecutionRole\"],\"RoleName\":\"BrutusRole\",\"AssumeRolePolicyDocument\":{\"Version\":\"2012-10-17\",\"Statement\":[{\"Action\":[\"sts:AssumeRole\"],\"Effect\":\"Allow\",\"Principal\":{\"Service\":[\"lambda.amazonaws.com\",\"apigateway.amazonaws.com\"]}}]}}\\n',\n",
       "   'ResourceStatus': 'CREATE_IN_PROGRESS',\n",
       "   'ResourceType': 'AWS::IAM::Role',\n",
       "   'StackId': 'arn:aws:cloudformation:eu-west-1:755632011865:stack/brutus-test-stack/3e860e20-ec6e-11e7-b401-50faf00dccd1',\n",
       "   'StackName': 'brutus-test-stack',\n",
       "   'Timestamp': datetime.datetime(2017, 12, 29, 7, 59, 53, 698000, tzinfo=tzutc())},\n",
       "  {'EventId': 'BrutusRolePolicy-CREATE_IN_PROGRESS-2017-12-29T07:59:53.037Z',\n",
       "   'LogicalResourceId': 'BrutusRolePolicy',\n",
       "   'PhysicalResourceId': '',\n",
       "   'ResourceProperties': '{\"ManagedPolicyName\":\"BrutusRolePolicy\",\"Description\":\"Policy for the BrutusRole. Part of the Python \\'brutus\\' lib, created by CloudFormation\",\"PolicyDocument\":{\"Version\":\"2012-10-17\",\"Statement\":[{\"Action\":\"execute-api:Invoke\",\"Resource\":\"arn:aws:execute-api:*\",\"Effect\":\"Allow\"},{\"Action\":\"sts:AssumeRole\",\"Resource\":\"*\",\"Effect\":\"Allow\"},{\"Action\":\"lambda:*\",\"Resource\":\"*\",\"Effect\":\"Allow\"},{\"Action\":\"apigateway:*\",\"Resource\":\"*\",\"Effect\":\"Allow\"},{\"Action\":\"logs:*\",\"Resource\":\"*\",\"Effect\":\"Allow\"}]}}\\n',\n",
       "   'ResourceStatus': 'CREATE_IN_PROGRESS',\n",
       "   'ResourceType': 'AWS::IAM::ManagedPolicy',\n",
       "   'StackId': 'arn:aws:cloudformation:eu-west-1:755632011865:stack/brutus-test-stack/3e860e20-ec6e-11e7-b401-50faf00dccd1',\n",
       "   'StackName': 'brutus-test-stack',\n",
       "   'Timestamp': datetime.datetime(2017, 12, 29, 7, 59, 53, 37000, tzinfo=tzutc())},\n",
       "  {'EventId': '3e86f880-ec6e-11e7-b401-50faf00dccd1',\n",
       "   'LogicalResourceId': 'brutus-test-stack',\n",
       "   'PhysicalResourceId': 'arn:aws:cloudformation:eu-west-1:755632011865:stack/brutus-test-stack/3e860e20-ec6e-11e7-b401-50faf00dccd1',\n",
       "   'ResourceStatus': 'CREATE_IN_PROGRESS',\n",
       "   'ResourceStatusReason': 'User Initiated',\n",
       "   'ResourceType': 'AWS::CloudFormation::Stack',\n",
       "   'StackId': 'arn:aws:cloudformation:eu-west-1:755632011865:stack/brutus-test-stack/3e860e20-ec6e-11e7-b401-50faf00dccd1',\n",
       "   'StackName': 'brutus-test-stack',\n",
       "   'Timestamp': datetime.datetime(2017, 12, 29, 7, 59, 49, 780000, tzinfo=tzutc())}]}"
      ]
     },
     "execution_count": 16,
     "metadata": {},
     "output_type": "execute_result"
    }
   ],
   "source": [
    "cf.describe_stack_events(StackName='brutus-test-stack')"
   ]
  },
  {
   "cell_type": "code",
   "execution_count": 42,
   "metadata": {},
   "outputs": [
    {
     "data": {
      "text/plain": [
       "{'ResponseMetadata': {'HTTPHeaders': {'content-length': '6872',\n",
       "   'content-type': 'text/xml',\n",
       "   'date': 'Fri, 29 Dec 2017 08:38:59 GMT',\n",
       "   'vary': 'Accept-Encoding',\n",
       "   'x-amzn-requestid': 'b6fd57da-ec73-11e7-8566-d3e2a2ef8449'},\n",
       "  'HTTPStatusCode': 200,\n",
       "  'RequestId': 'b6fd57da-ec73-11e7-8566-d3e2a2ef8449',\n",
       "  'RetryAttempts': 0},\n",
       " 'StackResources': [{'LogicalResourceId': 'ApiGatewayDeployment',\n",
       "   'PhysicalResourceId': 'dr7ds9',\n",
       "   'ResourceStatus': 'CREATE_COMPLETE',\n",
       "   'ResourceType': 'AWS::ApiGateway::Deployment',\n",
       "   'StackId': 'arn:aws:cloudformation:eu-west-1:755632011865:stack/brutus-test-stack/3e860e20-ec6e-11e7-b401-50faf00dccd1',\n",
       "   'StackName': 'brutus-test-stack',\n",
       "   'Timestamp': datetime.datetime(2017, 12, 29, 8, 0, 37, 454000, tzinfo=tzutc())},\n",
       "  {'LogicalResourceId': 'ApiGatewayMethod',\n",
       "   'PhysicalResourceId': 'brutu-ApiGa-1FC2WF02WRLTZ',\n",
       "   'ResourceStatus': 'CREATE_COMPLETE',\n",
       "   'ResourceType': 'AWS::ApiGateway::Method',\n",
       "   'StackId': 'arn:aws:cloudformation:eu-west-1:755632011865:stack/brutus-test-stack/3e860e20-ec6e-11e7-b401-50faf00dccd1',\n",
       "   'StackName': 'brutus-test-stack',\n",
       "   'Timestamp': datetime.datetime(2017, 12, 29, 8, 0, 33, 449000, tzinfo=tzutc())},\n",
       "  {'LogicalResourceId': 'ApiGatewayModel',\n",
       "   'PhysicalResourceId': 'BrutusSchema',\n",
       "   'ResourceStatus': 'CREATE_COMPLETE',\n",
       "   'ResourceType': 'AWS::ApiGateway::Model',\n",
       "   'StackId': 'arn:aws:cloudformation:eu-west-1:755632011865:stack/brutus-test-stack/3e860e20-ec6e-11e7-b401-50faf00dccd1',\n",
       "   'StackName': 'brutus-test-stack',\n",
       "   'Timestamp': datetime.datetime(2017, 12, 29, 7, 59, 58, 383000, tzinfo=tzutc())},\n",
       "  {'LogicalResourceId': 'ApiGatewayResourceProxy',\n",
       "   'PhysicalResourceId': 'hix8if',\n",
       "   'ResourceStatus': 'CREATE_COMPLETE',\n",
       "   'ResourceType': 'AWS::ApiGateway::Resource',\n",
       "   'StackId': 'arn:aws:cloudformation:eu-west-1:755632011865:stack/brutus-test-stack/3e860e20-ec6e-11e7-b401-50faf00dccd1',\n",
       "   'StackName': 'brutus-test-stack',\n",
       "   'Timestamp': datetime.datetime(2017, 12, 29, 7, 59, 58, 102000, tzinfo=tzutc())},\n",
       "  {'LogicalResourceId': 'ApiGatewayRestApi',\n",
       "   'PhysicalResourceId': '3r74l5a8xe',\n",
       "   'ResourceStatus': 'CREATE_COMPLETE',\n",
       "   'ResourceType': 'AWS::ApiGateway::RestApi',\n",
       "   'StackId': 'arn:aws:cloudformation:eu-west-1:755632011865:stack/brutus-test-stack/3e860e20-ec6e-11e7-b401-50faf00dccd1',\n",
       "   'StackName': 'brutus-test-stack',\n",
       "   'Timestamp': datetime.datetime(2017, 12, 29, 7, 59, 54, 981000, tzinfo=tzutc())},\n",
       "  {'LogicalResourceId': 'ApiGatewayStage',\n",
       "   'PhysicalResourceId': 'BrutusProductionStage',\n",
       "   'ResourceStatus': 'CREATE_COMPLETE',\n",
       "   'ResourceType': 'AWS::ApiGateway::Stage',\n",
       "   'StackId': 'arn:aws:cloudformation:eu-west-1:755632011865:stack/brutus-test-stack/3e860e20-ec6e-11e7-b401-50faf00dccd1',\n",
       "   'StackName': 'brutus-test-stack',\n",
       "   'Timestamp': datetime.datetime(2017, 12, 29, 8, 0, 42, 201000, tzinfo=tzutc())},\n",
       "  {'LogicalResourceId': 'BrutusRole',\n",
       "   'PhysicalResourceId': 'BrutusRole',\n",
       "   'ResourceStatus': 'CREATE_COMPLETE',\n",
       "   'ResourceType': 'AWS::IAM::Role',\n",
       "   'StackId': 'arn:aws:cloudformation:eu-west-1:755632011865:stack/brutus-test-stack/3e860e20-ec6e-11e7-b401-50faf00dccd1',\n",
       "   'StackName': 'brutus-test-stack',\n",
       "   'Timestamp': datetime.datetime(2017, 12, 29, 8, 0, 10, 185000, tzinfo=tzutc())},\n",
       "  {'LogicalResourceId': 'BrutusRolePolicy',\n",
       "   'PhysicalResourceId': 'arn:aws:iam::755632011865:policy/BrutusRolePolicy',\n",
       "   'ResourceStatus': 'CREATE_COMPLETE',\n",
       "   'ResourceType': 'AWS::IAM::ManagedPolicy',\n",
       "   'StackId': 'arn:aws:cloudformation:eu-west-1:755632011865:stack/brutus-test-stack/3e860e20-ec6e-11e7-b401-50faf00dccd1',\n",
       "   'StackName': 'brutus-test-stack',\n",
       "   'Timestamp': datetime.datetime(2017, 12, 29, 8, 0, 0, 774000, tzinfo=tzutc())},\n",
       "  {'LogicalResourceId': 'LambdaFunctionBrutus',\n",
       "   'PhysicalResourceId': 'Brutus-Test-Function',\n",
       "   'ResourceStatus': 'CREATE_COMPLETE',\n",
       "   'ResourceType': 'AWS::Lambda::Function',\n",
       "   'StackId': 'arn:aws:cloudformation:eu-west-1:755632011865:stack/brutus-test-stack/3e860e20-ec6e-11e7-b401-50faf00dccd1',\n",
       "   'StackName': 'brutus-test-stack',\n",
       "   'Timestamp': datetime.datetime(2017, 12, 29, 8, 0, 14, 304000, tzinfo=tzutc())},\n",
       "  {'LogicalResourceId': 'LambdaPermission',\n",
       "   'PhysicalResourceId': 'brutus-test-stack-LambdaPermission-BMW61DQCN1SY',\n",
       "   'ResourceStatus': 'CREATE_COMPLETE',\n",
       "   'ResourceType': 'AWS::Lambda::Permission',\n",
       "   'StackId': 'arn:aws:cloudformation:eu-west-1:755632011865:stack/brutus-test-stack/3e860e20-ec6e-11e7-b401-50faf00dccd1',\n",
       "   'StackName': 'brutus-test-stack',\n",
       "   'Timestamp': datetime.datetime(2017, 12, 29, 8, 0, 27, 665000, tzinfo=tzutc())}]}"
      ]
     },
     "execution_count": 42,
     "metadata": {},
     "output_type": "execute_result"
    }
   ],
   "source": [
    "cf.describe_stack_resources(StackName='brutus-test-stack')"
   ]
  },
  {
   "cell_type": "code",
   "execution_count": 74,
   "metadata": {},
   "outputs": [
    {
     "data": {
      "text/plain": [
       "{'ResponseMetadata': {'HTTPHeaders': {'content-length': '996',\n",
       "   'content-type': 'text/xml',\n",
       "   'date': 'Fri, 29 Dec 2017 09:34:15 GMT',\n",
       "   'x-amzn-requestid': '6fc89c10-ec7b-11e7-aa14-495a7d639f4e'},\n",
       "  'HTTPStatusCode': 200,\n",
       "  'RequestId': '6fc89c10-ec7b-11e7-aa14-495a7d639f4e',\n",
       "  'RetryAttempts': 0},\n",
       " 'StackResourceDetail': {'LastUpdatedTimestamp': datetime.datetime(2017, 12, 29, 7, 59, 54, 981000, tzinfo=tzutc()),\n",
       "  'LogicalResourceId': 'ApiGatewayRestApi',\n",
       "  'Metadata': '{}\\n',\n",
       "  'PhysicalResourceId': '3r74l5a8xe',\n",
       "  'ResourceStatus': 'CREATE_COMPLETE',\n",
       "  'ResourceType': 'AWS::ApiGateway::RestApi',\n",
       "  'StackId': 'arn:aws:cloudformation:eu-west-1:755632011865:stack/brutus-test-stack/3e860e20-ec6e-11e7-b401-50faf00dccd1',\n",
       "  'StackName': 'brutus-test-stack'}}"
      ]
     },
     "execution_count": 74,
     "metadata": {},
     "output_type": "execute_result"
    }
   ],
   "source": [
    "cf.describe_stack_resource(StackName='brutus-test-stack',\n",
    "                           LogicalResourceId='ApiGatewayRestApi')"
   ]
  },
  {
   "cell_type": "code",
   "execution_count": 18,
   "metadata": {},
   "outputs": [],
   "source": [
    "apig = session.client('apigateway')"
   ]
  },
  {
   "cell_type": "code",
   "execution_count": 27,
   "metadata": {},
   "outputs": [
    {
     "data": {
      "text/plain": [
       "{'ResponseMetadata': {'HTTPHeaders': {'connection': 'keep-alive',\n",
       "   'content-length': '256',\n",
       "   'content-type': 'application/json',\n",
       "   'date': 'Fri, 29 Dec 2017 08:28:51 GMT',\n",
       "   'x-amzn-requestid': '4c673b41-ec72-11e7-9498-750b4eb2e061'},\n",
       "  'HTTPStatusCode': 200,\n",
       "  'RequestId': '4c673b41-ec72-11e7-9498-750b4eb2e061',\n",
       "  'RetryAttempts': 0},\n",
       " 'cacheClusterEnabled': False,\n",
       " 'cacheClusterStatus': 'NOT_AVAILABLE',\n",
       " 'createdDate': datetime.datetime(2017, 12, 29, 9, 0, 40, tzinfo=tzlocal()),\n",
       " 'deploymentId': 'dr7ds9',\n",
       " 'description': 'Brutus Production Stage',\n",
       " 'lastUpdatedDate': datetime.datetime(2017, 12, 29, 9, 0, 41, tzinfo=tzlocal()),\n",
       " 'methodSettings': {},\n",
       " 'stageName': 'BrutusProductionStage',\n",
       " 'variables': {}}"
      ]
     },
     "execution_count": 27,
     "metadata": {},
     "output_type": "execute_result"
    }
   ],
   "source": [
    "apig.get_stage(restApiId='3r74l5a8xe',\n",
    "               stageName='BrutusProductionStage')"
   ]
  },
  {
   "cell_type": "code",
   "execution_count": 46,
   "metadata": {},
   "outputs": [
    {
     "data": {
      "text/plain": [
       "{'ResponseMetadata': {'HTTPHeaders': {'connection': 'keep-alive',\n",
       "   'content-length': '584',\n",
       "   'content-type': 'application/json',\n",
       "   'date': 'Fri, 29 Dec 2017 08:43:05 GMT',\n",
       "   'x-amzn-requestid': '49b9bc00-ec74-11e7-8e15-a3bb3dea92d4'},\n",
       "  'HTTPStatusCode': 200,\n",
       "  'RequestId': '49b9bc00-ec74-11e7-8e15-a3bb3dea92d4',\n",
       "  'RetryAttempts': 0},\n",
       " 'id': 'hix8if',\n",
       " 'parentId': '88sz865ef4',\n",
       " 'path': '/brutus',\n",
       " 'pathPart': 'brutus',\n",
       " 'resourceMethods': {'ANY': {'apiKeyRequired': False,\n",
       "   'authorizationType': 'NONE',\n",
       "   'httpMethod': 'ANY',\n",
       "   'methodIntegration': {'cacheKeyParameters': [],\n",
       "    'cacheNamespace': 'hix8if',\n",
       "    'httpMethod': 'POST',\n",
       "    'passthroughBehavior': 'WHEN_NO_MATCH',\n",
       "    'requestParameters': {},\n",
       "    'requestTemplates': {},\n",
       "    'timeoutInMillis': 29000,\n",
       "    'type': 'AWS_PROXY',\n",
       "    'uri': 'arn:aws:apigateway:eu-west-1:lambda:path/2015-03-31/functions/arn:aws:lambda:eu-west-1:755632011865:function:Brutus-Test-Function/invocations'},\n",
       "   'requestModels': {},\n",
       "   'requestParameters': {}}}}"
      ]
     },
     "execution_count": 46,
     "metadata": {},
     "output_type": "execute_result"
    }
   ],
   "source": [
    "apig.get_resource(restApiId='3r74l5a8xe', \n",
    "                  resourceId='hix8if', embed=['methods'])"
   ]
  },
  {
   "cell_type": "code",
   "execution_count": 57,
   "metadata": {},
   "outputs": [
    {
     "data": {
      "text/plain": [
       "'eu-west-1'"
      ]
     },
     "execution_count": 57,
     "metadata": {},
     "output_type": "execute_result"
    }
   ],
   "source": [
    "session.region_name"
   ]
  },
  {
   "cell_type": "code",
   "execution_count": 56,
   "metadata": {},
   "outputs": [
    {
     "data": {
      "text/plain": [
       "b'{\"success\": true}'"
      ]
     },
     "execution_count": 56,
     "metadata": {},
     "output_type": "execute_result"
    }
   ],
   "source": [
    "import requests\n",
    "\n",
    "r = requests.post(\n",
    "    'https://3r74l5a8xe.execute-api.eu-west-1.amazonaws.com/BrutusDeploymentStage/brutus',\n",
    "    data={'file': b'bytes'}\n",
    ")\n",
    "\n",
    "r.content"
   ]
  }
 ],
 "metadata": {
  "kernelspec": {
   "display_name": "Brutus - Python3.5",
   "language": "python",
   "name": "brutus"
  },
  "language_info": {
   "codemirror_mode": {
    "name": "ipython",
    "version": 3
   },
   "file_extension": ".py",
   "mimetype": "text/x-python",
   "name": "python",
   "nbconvert_exporter": "python",
   "pygments_lexer": "ipython3",
   "version": "3.5.4"
  }
 },
 "nbformat": 4,
 "nbformat_minor": 2
}
