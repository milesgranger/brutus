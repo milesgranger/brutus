{
 "cells": [
  {
   "cell_type": "code",
   "execution_count": null,
   "metadata": {},
   "outputs": [
    {
     "name": "stderr",
     "output_type": "stream",
     "text": [
      "Traceback (most recent call last):\n",
      "  File \"/home/milesg/anaconda/envs/brutus/lib/python3.5/multiprocessing/queues.py\", line 234, in _feed\n",
      "    obj = ForkingPickler.dumps(obj)\n",
      "  File \"/home/milesg/anaconda/envs/brutus/lib/python3.5/multiprocessing/reduction.py\", line 50, in dumps\n",
      "    cls(buf, protocol).dump(obj)\n",
      "_pickle.PicklingError: Can't pickle <function foo at 0x7f1a05738a60>: it's not the same object as __main__.foo\n"
     ]
    }
   ],
   "source": [
    "from brutus.distribute import distribute\n",
    "from brutus.backends import Lambda\n",
    "\n",
    "lambda_resource = Lambda()\n",
    "\n",
    "c = 2\n",
    "\n",
    "@distribute(backend=lambda_resource)\n",
    "def foo(a, b):\n",
    "    \"\"\"Execute this function\"\"\"\n",
    "    return a + b + c\n",
    "\n",
    "foo(2, 2)"
   ]
  }
 ],
 "metadata": {
  "kernelspec": {
   "display_name": "Brutus - Python3.5",
   "language": "python",
   "name": "brutus"
  },
  "language_info": {
   "codemirror_mode": {
    "name": "ipython",
    "version": 3
   },
   "file_extension": ".py",
   "mimetype": "text/x-python",
   "name": "python",
   "nbconvert_exporter": "python",
   "pygments_lexer": "ipython3",
   "version": "3.5.4"
  }
 },
 "nbformat": 4,
 "nbformat_minor": 2
}
