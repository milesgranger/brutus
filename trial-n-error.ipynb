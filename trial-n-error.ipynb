{
 "cells": [
  {
   "cell_type": "code",
   "execution_count": 1,
   "metadata": {},
   "outputs": [
    {
     "name": "stdout",
     "output_type": "stream",
     "text": [
      "Creating CloudFormation Stack, this can take up to 10mins\n",
      "Stack Status: CREATE_COMPLETEESS\n",
      "Successfully validated function!\n",
      "Clearning lambda_env target dir.\n",
      "done.\n",
      "Building environment in Amazon Linux container...\n",
      "Collecting cloudpickle (from -r /lambda_env/requirements.txt (line 1))\n",
      "Downloading cloudpickle-0.5.2-py2.py3-none-any.whl\n",
      "Collecting numpy (from -r /lambda_env/requirements.txt (line 2))\n",
      "Downloading numpy-1.13.3-cp36-cp36m-manylinux1_x86_64.whl (17.0MB)\n",
      "Installing collected packages: cloudpickle, numpy\n",
      "Successfully installed cloudpickle-0.5.2 numpy-1.13.3\n",
      "Creating zip...\n",
      "done\n"
     ]
    },
    {
     "data": {
      "text/plain": [
       "<brutus.aws.lambda_backend.lambda_client.Lambda at 0x7f6590573da0>"
      ]
     },
     "execution_count": 1,
     "metadata": {},
     "output_type": "execute_result"
    }
   ],
   "source": [
    "from brutus.executors import Lambda\n",
    "from brutus.aws.lambda_backend.lambda_setup.build_lambda_env import LambdaEnvBuilder\n",
    "from boto3.session import Session\n",
    "\n",
    "session = Session(profile_name='default')\n",
    "\n",
    "executor = Lambda.create(function_name='default-function', \n",
    "                         boto3_session=session, \n",
    "                         python_packages=['cloudpickle', 'numpy'])\n",
    "executor"
   ]
  },
  {
   "cell_type": "code",
   "execution_count": 2,
   "metadata": {},
   "outputs": [
    {
     "name": "stdout",
     "output_type": "stream",
     "text": [
      "Clearning lambda_env target dir.\n",
      "done.\n",
      "Building environment in Amazon Linux container...\n",
      "Collecting cloudpickle (from -r /lambda_env/requirements.txt (line 1))\n",
      "Downloading cloudpickle-0.5.2-py2.py3-none-any.whl\n",
      "Installing collected packages: cloudpickle\n",
      "Successfully installed cloudpickle-0.5.2\n",
      "Creating zip...\n",
      "done\n"
     ]
    }
   ],
   "source": [
    "LambdaEnvBuilder.build(['cloudpickle'])"
   ]
  },
  {
   "cell_type": "code",
   "execution_count": 3,
   "metadata": {},
   "outputs": [
    {
     "data": {
      "text/plain": [
       "{'CodeSha256': '+jJw0cDqFVpk7lx6p5JLsIoRqnAjZtpj0tAi4XjRpj8=',\n",
       " 'CodeSize': 30447,\n",
       " 'Description': \"Function for the Python 'brutus' framework, created by CloudFormation\",\n",
       " 'FunctionArn': 'arn:aws:lambda:eu-west-1:755632011865:function:default-function:6',\n",
       " 'FunctionName': 'default-function',\n",
       " 'Handler': 'index.handler',\n",
       " 'LastModified': '2017-12-29T15:04:54.179+0000',\n",
       " 'MemorySize': 3000,\n",
       " 'ResponseMetadata': {'HTTPHeaders': {'connection': 'keep-alive',\n",
       "   'content-length': '622',\n",
       "   'content-type': 'application/json',\n",
       "   'date': 'Fri, 29 Dec 2017 15:04:54 GMT',\n",
       "   'x-amzn-requestid': 'a0476115-eca9-11e7-b02b-f5a535e41fa3'},\n",
       "  'HTTPStatusCode': 200,\n",
       "  'RequestId': 'a0476115-eca9-11e7-b02b-f5a535e41fa3',\n",
       "  'RetryAttempts': 0},\n",
       " 'Role': 'arn:aws:iam::755632011865:role/BrutusRole',\n",
       " 'Runtime': 'python3.6',\n",
       " 'Timeout': 300,\n",
       " 'TracingConfig': {'Mode': 'PassThrough'},\n",
       " 'Version': '6'}"
      ]
     },
     "execution_count": 3,
     "metadata": {},
     "output_type": "execute_result"
    }
   ],
   "source": [
    "lr = session.client('lambda')\n",
    "\n",
    "with open('brutus/aws/lambda_backend/lambda_env/lambda_env.zip', 'rb') as code:\n",
    "    code = code.read()\n",
    "\n",
    "lr.update_function_code(FunctionName=executor.function_name,\n",
    "                        ZipFile=code,\n",
    "                        Publish=True)"
   ]
  },
  {
   "cell_type": "code",
   "execution_count": 4,
   "metadata": {},
   "outputs": [
    {
     "data": {
      "text/plain": [
       "{'CodeSha256': '+jJw0cDqFVpk7lx6p5JLsIoRqnAjZtpj0tAi4XjRpj8=',\n",
       " 'CodeSize': 30447,\n",
       " 'Description': \"Function for the Python 'brutus' framework, created by CloudFormation\",\n",
       " 'FunctionArn': 'arn:aws:lambda:eu-west-1:755632011865:function:default-function',\n",
       " 'FunctionName': 'default-function',\n",
       " 'Handler': 'lambda_handler.handler',\n",
       " 'LastModified': '2017-12-29T15:04:54.358+0000',\n",
       " 'MemorySize': 3000,\n",
       " 'ResponseMetadata': {'HTTPHeaders': {'connection': 'keep-alive',\n",
       "   'content-length': '635',\n",
       "   'content-type': 'application/json',\n",
       "   'date': 'Fri, 29 Dec 2017 15:04:54 GMT',\n",
       "   'x-amzn-requestid': 'a071cc70-eca9-11e7-b027-2f92375599ee'},\n",
       "  'HTTPStatusCode': 200,\n",
       "  'RequestId': 'a071cc70-eca9-11e7-b027-2f92375599ee',\n",
       "  'RetryAttempts': 0},\n",
       " 'Role': 'arn:aws:iam::755632011865:role/BrutusRole',\n",
       " 'Runtime': 'python3.6',\n",
       " 'Timeout': 300,\n",
       " 'TracingConfig': {'Mode': 'PassThrough'},\n",
       " 'Version': '$LATEST'}"
      ]
     },
     "execution_count": 4,
     "metadata": {},
     "output_type": "execute_result"
    }
   ],
   "source": [
    "lr.update_function_configuration(FunctionName=executor.function_name,\n",
    "                                 Handler='lambda_handler.handler')"
   ]
  },
  {
   "cell_type": "code",
   "execution_count": 9,
   "metadata": {},
   "outputs": [
    {
     "data": {
      "text/plain": [
       "b'{\"message\": \"Internal server error\"}'"
      ]
     },
     "execution_count": 9,
     "metadata": {},
     "output_type": "execute_result"
    }
   ],
   "source": [
    "def foo(a):\n",
    "    return a + 1\n",
    "\n",
    "import cloudpickle\n",
    "import requests\n",
    "\n",
    "job = cloudpickle.dumps(dict(func=foo, \n",
    "                             args=(1,)\n",
    "                            )\n",
    "                       )\n",
    "\n",
    "r = requests.post(executor._api_endpoint, \n",
    "                  data=job)\n",
    "r.content"
   ]
  },
  {
   "cell_type": "code",
   "execution_count": 15,
   "metadata": {},
   "outputs": [
    {
     "data": {
      "text/plain": [
       "\"b'\\\\x80\\\\x04\\\\x959\\\\x01\\\\x00\\\\x00\\\\x00\\\\x00\\\\x00\\\\x00}\\\\x94(\\\\x8c\\\\x04func\\\\x94\\\\x8c\\\\x17cloudpickle.cloudpickle\\\\x94\\\\x8c\\\\x0e_fill_function\\\\x94\\\\x93\\\\x94(h\\\\x02\\\\x8c\\\\x0f_make_skel_func\\\\x94\\\\x93\\\\x94h\\\\x02\\\\x8c\\\\r_builtin_type\\\\x94\\\\x93\\\\x94\\\\x8c\\\\x08CodeType\\\\x94\\\\x85\\\\x94R\\\\x94(K\\\\x01K\\\\x00K\\\\x01K\\\\x02KCC\\\\x08|\\\\x00\\\\x00d\\\\x01\\\\x00\\\\x17S\\\\x94NK\\\\x01\\\\x86\\\\x94)\\\\x8c\\\\x01a\\\\x94\\\\x85\\\\x94\\\\x8c\\\\x1e<ipython-input-9-c749d79e0e9c>\\\\x94\\\\x8c\\\\x03foo\\\\x94K\\\\x01C\\\\x02\\\\x00\\\\x01\\\\x94))t\\\\x94R\\\\x94J\\\\xff\\\\xff\\\\xff\\\\xff}\\\\x94\\\\x87\\\\x94R\\\\x94}\\\\x94(\\\\x8c\\\\x0eclosure_values\\\\x94N\\\\x8c\\\\x08qualname\\\\x94h\\\\x11\\\\x8c\\\\x08defaults\\\\x94N\\\\x8c\\\\x04dict\\\\x94}\\\\x94\\\\x8c\\\\x06module\\\\x94\\\\x8c\\\\x08__main__\\\\x94\\\\x8c\\\\x07globals\\\\x94}\\\\x94utR\\\\x8c\\\\x04args\\\\x94K\\\\x01\\\\x85\\\\x94u.'\""
      ]
     },
     "execution_count": 15,
     "metadata": {},
     "output_type": "execute_result"
    }
   ],
   "source": [
    "str(job)"
   ]
  }
 ],
 "metadata": {
  "kernelspec": {
   "display_name": "Brutus - Python3.5",
   "language": "python",
   "name": "brutus"
  },
  "language_info": {
   "codemirror_mode": {
    "name": "ipython",
    "version": 3
   },
   "file_extension": ".py",
   "mimetype": "text/x-python",
   "name": "python",
   "nbconvert_exporter": "python",
   "pygments_lexer": "ipython3",
   "version": "3.5.4"
  }
 },
 "nbformat": 4,
 "nbformat_minor": 2
}
