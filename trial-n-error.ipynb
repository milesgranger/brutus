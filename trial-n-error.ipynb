{
 "cells": [
  {
   "cell_type": "code",
   "execution_count": 3,
   "metadata": {},
   "outputs": [
    {
     "data": {
      "text/plain": [
       "<botocore.client.Lambda at 0x7fa15365fe10>"
      ]
     },
     "execution_count": 3,
     "metadata": {},
     "output_type": "execute_result"
    }
   ],
   "source": [
    "import boto3\n",
    "\n",
    "client = boto3.client('lambda')\n",
    "client"
   ]
  },
  {
   "cell_type": "code",
   "execution_count": 4,
   "metadata": {},
   "outputs": [
    {
     "data": {
      "text/plain": [
       "{'CodeSha256': 'HGnBB2JnoRJcrDXDMWoaC3ZO/W5lyLErjY0+OqpGWM0=',\n",
       " 'CodeSize': 18993815,\n",
       " 'Description': 'Lambda Function created by Brutus python package',\n",
       " 'FunctionArn': 'arn:aws:lambda:eu-west-1:755632011865:function:brutus-func',\n",
       " 'FunctionName': 'brutus-func',\n",
       " 'Handler': 'lambda_handler.handler',\n",
       " 'LastModified': '2017-12-18T14:28:59.898+0000',\n",
       " 'MemorySize': 512,\n",
       " 'ResponseMetadata': {'HTTPHeaders': {'connection': 'keep-alive',\n",
       "   'content-length': '608',\n",
       "   'content-type': 'application/json',\n",
       "   'date': 'Mon, 18 Dec 2017 14:29:01 GMT',\n",
       "   'x-amzn-requestid': 'c796bd9f-e3ff-11e7-9372-ebede17f9d35'},\n",
       "  'HTTPStatusCode': 201,\n",
       "  'RequestId': 'c796bd9f-e3ff-11e7-9372-ebede17f9d35',\n",
       "  'RetryAttempts': 0},\n",
       " 'Role': 'arn:aws:iam::755632011865:role/brutus-lambda-role',\n",
       " 'Runtime': 'python3.6',\n",
       " 'Timeout': 10,\n",
       " 'TracingConfig': {'Mode': 'PassThrough'},\n",
       " 'Version': '10'}"
      ]
     },
     "execution_count": 4,
     "metadata": {},
     "output_type": "execute_result"
    }
   ],
   "source": [
    "with open('brutus/lambda_env/lambda_env.zip', 'rb') as f:\n",
    "    code = f.read()\n",
    "\n",
    "resp = client.create_function(\n",
    "    FunctionName='brutus-func',\n",
    "    Runtime='python3.6',\n",
    "    Role='arn:aws:iam::755632011865:role/brutus-lambda-role',\n",
    "    Handler='lambda_handler.handler',\n",
    "    Code={'ZipFile': code},\n",
    "    Description='Lambda Function created by Brutus python package',\n",
    "    Timeout=10,\n",
    "    MemorySize=512,\n",
    "    Publish=True\n",
    ")\n",
    "\n",
    "resp"
   ]
  },
  {
   "cell_type": "code",
   "execution_count": null,
   "metadata": {},
   "outputs": [],
   "source": []
  }
 ],
 "metadata": {
  "kernelspec": {
   "display_name": "Brutus - Python3.5",
   "language": "python",
   "name": "brutus"
  },
  "language_info": {
   "codemirror_mode": {
    "name": "ipython",
    "version": 3
   },
   "file_extension": ".py",
   "mimetype": "text/x-python",
   "name": "python",
   "nbconvert_exporter": "python",
   "pygments_lexer": "ipython3",
   "version": "3.5.4"
  }
 },
 "nbformat": 4,
 "nbformat_minor": 2
}
